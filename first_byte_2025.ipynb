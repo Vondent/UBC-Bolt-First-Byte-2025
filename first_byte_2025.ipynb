{
 "cells": [
  {
   "cell_type": "markdown",
   "id": "bd9c0ced-914b-4c51-935b-cd159ab46a54",
   "metadata": {},
   "source": [
    "# UBC Bolt First Byte 2025"
   ]
  },
  {
   "cell_type": "markdown",
   "id": "8a2302e2-c585-405a-9bdd-9dd80f591085",
   "metadata": {},
   "source": [
    "#### Mission:\n",
    "\n",
    "- As audiences shift online, new technologies arise, and competing clubs expand their global footprint, Vancouver City must decide how to evolve and where to invest, in order to secure its future on and off the pitch.\n",
    "- The club’s mission is to grow the game, empower fans, and strengthen connections between players, supporters, and the city it represents."
   ]
  },
  {
   "cell_type": "markdown",
   "id": "31b11451-401e-448f-95e3-f26eb37c8fd8",
   "metadata": {},
   "source": [
    "#### Context\n",
    "\n",
    "- sales have continued to decline. Overall earnings have fallen from roughly $60 million in prior years to materially lower levels today\n",
    "- The club’s three primary sources of revenue, including stadium operations, merchandise sales, and fanbase engagement, have all been impacted by these issues. Matchday turnout and in-stadium spending are falling, online sales are down by 30% compared to prior seasons, and global engagement remains underdeveloped"
   ]
  },
  {
   "cell_type": "code",
   "execution_count": 33,
   "id": "a0ffb738-8a96-47eb-a0f2-d70d0e616e9a",
   "metadata": {
    "tags": []
   },
   "outputs": [],
   "source": [
    "import pandas as pd\n",
    "import numpy as np\n",
    "import matplotlib.pyplot as plt\n",
    "import seaborn as sns"
   ]
  },
  {
   "cell_type": "markdown",
   "id": "c712aa53-1b2d-42ea-ac78-cec28660b926",
   "metadata": {},
   "source": [
    "## Load Data"
   ]
  },
  {
   "cell_type": "code",
   "execution_count": 7,
   "id": "c0996267-82c1-4cd0-9b74-ea3e404e2c73",
   "metadata": {
    "tags": []
   },
   "outputs": [],
   "source": [
    "merch_dat = pd.read_excel(r\"data\\BOLT UBC First Byte - Merchandise Sales.xlsx\")\n",
    "stadium_dat = pd.read_excel(r\"data\\BOLT UBC First Byte - Stadium Operations.xlsx\")\n",
    "fan_dat = pd.read_excel(r\"data\\BOLT UBC First Byte - Fanbase Engagement.xlsx\")"
   ]
  },
  {
   "cell_type": "code",
   "execution_count": 8,
   "id": "85fb7f4a-7c4e-4132-8a5c-06e5169649a6",
   "metadata": {
    "tags": []
   },
   "outputs": [
    {
     "data": {
      "text/html": [
       "<div>\n",
       "<style scoped>\n",
       "    .dataframe tbody tr th:only-of-type {\n",
       "        vertical-align: middle;\n",
       "    }\n",
       "\n",
       "    .dataframe tbody tr th {\n",
       "        vertical-align: top;\n",
       "    }\n",
       "\n",
       "    .dataframe thead th {\n",
       "        text-align: right;\n",
       "    }\n",
       "</style>\n",
       "<table border=\"1\" class=\"dataframe\">\n",
       "  <thead>\n",
       "    <tr style=\"text-align: right;\">\n",
       "      <th></th>\n",
       "      <th>Product_ID</th>\n",
       "      <th>Barcode</th>\n",
       "      <th>Item_Category</th>\n",
       "      <th>Item_Name</th>\n",
       "      <th>Size</th>\n",
       "      <th>Unit_Price</th>\n",
       "      <th>Customer_Age_Group</th>\n",
       "      <th>Customer_Region</th>\n",
       "      <th>Promotion</th>\n",
       "      <th>Channel</th>\n",
       "      <th>Selling_Date</th>\n",
       "      <th>Member_ID</th>\n",
       "      <th>Arrival_Date</th>\n",
       "    </tr>\n",
       "  </thead>\n",
       "  <tbody>\n",
       "    <tr>\n",
       "      <th>34848</th>\n",
       "      <td>10000004</td>\n",
       "      <td>20034848</td>\n",
       "      <td>Jersey</td>\n",
       "      <td>Away Jersey</td>\n",
       "      <td>L</td>\n",
       "      <td>152</td>\n",
       "      <td>&lt;18</td>\n",
       "      <td>International</td>\n",
       "      <td>False</td>\n",
       "      <td>Online</td>\n",
       "      <td>2024-05-28 13:03:00</td>\n",
       "      <td>10028868</td>\n",
       "      <td>2024-06-05 11:48:00</td>\n",
       "    </tr>\n",
       "    <tr>\n",
       "      <th>50772</th>\n",
       "      <td>10000006</td>\n",
       "      <td>20050772</td>\n",
       "      <td>Jersey</td>\n",
       "      <td>Retro Jersey</td>\n",
       "      <td>M</td>\n",
       "      <td>152</td>\n",
       "      <td>26–40</td>\n",
       "      <td>Domestic</td>\n",
       "      <td>True</td>\n",
       "      <td>Online</td>\n",
       "      <td>2024-02-02 06:55:00</td>\n",
       "      <td>10005835</td>\n",
       "      <td>2024-02-11 15:07:00</td>\n",
       "    </tr>\n",
       "    <tr>\n",
       "      <th>5166</th>\n",
       "      <td>10000008</td>\n",
       "      <td>20005166</td>\n",
       "      <td>Mug</td>\n",
       "      <td>Logo Mug</td>\n",
       "      <td>NaN</td>\n",
       "      <td>25</td>\n",
       "      <td>60+</td>\n",
       "      <td>Domestic</td>\n",
       "      <td>True</td>\n",
       "      <td>Online</td>\n",
       "      <td>2024-04-30 06:35:00</td>\n",
       "      <td>10026024</td>\n",
       "      <td>2024-05-06 14:44:00</td>\n",
       "    </tr>\n",
       "    <tr>\n",
       "      <th>14236</th>\n",
       "      <td>10000008</td>\n",
       "      <td>20014236</td>\n",
       "      <td>Mug</td>\n",
       "      <td>Logo Mug</td>\n",
       "      <td>NaN</td>\n",
       "      <td>25</td>\n",
       "      <td>18–25</td>\n",
       "      <td>Domestic</td>\n",
       "      <td>False</td>\n",
       "      <td>Online</td>\n",
       "      <td>2024-01-22 08:21:00</td>\n",
       "      <td>10003238</td>\n",
       "      <td>2024-01-31 11:00:00</td>\n",
       "    </tr>\n",
       "    <tr>\n",
       "      <th>34101</th>\n",
       "      <td>10000004</td>\n",
       "      <td>20034101</td>\n",
       "      <td>Jersey</td>\n",
       "      <td>Away Jersey</td>\n",
       "      <td>M</td>\n",
       "      <td>152</td>\n",
       "      <td>26–40</td>\n",
       "      <td>Domestic</td>\n",
       "      <td>False</td>\n",
       "      <td>Online</td>\n",
       "      <td>2024-01-30 15:29:00</td>\n",
       "      <td>10005211</td>\n",
       "      <td>2024-02-07 18:42:00</td>\n",
       "    </tr>\n",
       "  </tbody>\n",
       "</table>\n",
       "</div>"
      ],
      "text/plain": [
       "       Product_ID   Barcode Item_Category     Item_Name Size  Unit_Price  \\\n",
       "34848    10000004  20034848        Jersey   Away Jersey    L         152   \n",
       "50772    10000006  20050772        Jersey  Retro Jersey    M         152   \n",
       "5166     10000008  20005166           Mug      Logo Mug  NaN          25   \n",
       "14236    10000008  20014236           Mug      Logo Mug  NaN          25   \n",
       "34101    10000004  20034101        Jersey   Away Jersey    M         152   \n",
       "\n",
       "      Customer_Age_Group Customer_Region  Promotion Channel  \\\n",
       "34848                <18   International      False  Online   \n",
       "50772              26–40        Domestic       True  Online   \n",
       "5166                 60+        Domestic       True  Online   \n",
       "14236              18–25        Domestic      False  Online   \n",
       "34101              26–40        Domestic      False  Online   \n",
       "\n",
       "             Selling_Date  Member_ID        Arrival_Date  \n",
       "34848 2024-05-28 13:03:00   10028868 2024-06-05 11:48:00  \n",
       "50772 2024-02-02 06:55:00   10005835 2024-02-11 15:07:00  \n",
       "5166  2024-04-30 06:35:00   10026024 2024-05-06 14:44:00  \n",
       "14236 2024-01-22 08:21:00   10003238 2024-01-31 11:00:00  \n",
       "34101 2024-01-30 15:29:00   10005211 2024-02-07 18:42:00  "
      ]
     },
     "execution_count": 8,
     "metadata": {},
     "output_type": "execute_result"
    }
   ],
   "source": [
    "merch_dat.sample(5)"
   ]
  },
  {
   "cell_type": "code",
   "execution_count": 9,
   "id": "1e614206-c609-46d4-bc60-1b27631257fd",
   "metadata": {
    "tags": []
   },
   "outputs": [
    {
     "data": {
      "text/html": [
       "<div>\n",
       "<style scoped>\n",
       "    .dataframe tbody tr th:only-of-type {\n",
       "        vertical-align: middle;\n",
       "    }\n",
       "\n",
       "    .dataframe tbody tr th {\n",
       "        vertical-align: top;\n",
       "    }\n",
       "\n",
       "    .dataframe thead th {\n",
       "        text-align: right;\n",
       "    }\n",
       "</style>\n",
       "<table border=\"1\" class=\"dataframe\">\n",
       "  <thead>\n",
       "    <tr style=\"text-align: right;\">\n",
       "      <th></th>\n",
       "      <th>Month</th>\n",
       "      <th>Source</th>\n",
       "      <th>Revenue</th>\n",
       "    </tr>\n",
       "  </thead>\n",
       "  <tbody>\n",
       "    <tr>\n",
       "      <th>129</th>\n",
       "      <td>10</td>\n",
       "      <td>Utilities</td>\n",
       "      <td>-234718</td>\n",
       "    </tr>\n",
       "    <tr>\n",
       "      <th>72</th>\n",
       "      <td>1</td>\n",
       "      <td>Concert</td>\n",
       "      <td>450000</td>\n",
       "    </tr>\n",
       "    <tr>\n",
       "      <th>46</th>\n",
       "      <td>11</td>\n",
       "      <td>Premium</td>\n",
       "      <td>19965</td>\n",
       "    </tr>\n",
       "    <tr>\n",
       "      <th>128</th>\n",
       "      <td>9</td>\n",
       "      <td>Utilities</td>\n",
       "      <td>-221451</td>\n",
       "    </tr>\n",
       "    <tr>\n",
       "      <th>127</th>\n",
       "      <td>8</td>\n",
       "      <td>Utilities</td>\n",
       "      <td>-315497</td>\n",
       "    </tr>\n",
       "  </tbody>\n",
       "</table>\n",
       "</div>"
      ],
      "text/plain": [
       "     Month     Source  Revenue\n",
       "129     10  Utilities  -234718\n",
       "72       1    Concert   450000\n",
       "46      11    Premium    19965\n",
       "128      9  Utilities  -221451\n",
       "127      8  Utilities  -315497"
      ]
     },
     "execution_count": 9,
     "metadata": {},
     "output_type": "execute_result"
    }
   ],
   "source": [
    "stadium_dat.sample(5)"
   ]
  },
  {
   "cell_type": "code",
   "execution_count": 10,
   "id": "e6653b96-0da3-4d69-9edb-591c33a43277",
   "metadata": {
    "tags": []
   },
   "outputs": [
    {
     "data": {
      "text/html": [
       "<div>\n",
       "<style scoped>\n",
       "    .dataframe tbody tr th:only-of-type {\n",
       "        vertical-align: middle;\n",
       "    }\n",
       "\n",
       "    .dataframe tbody tr th {\n",
       "        vertical-align: top;\n",
       "    }\n",
       "\n",
       "    .dataframe thead th {\n",
       "        text-align: right;\n",
       "    }\n",
       "</style>\n",
       "<table border=\"1\" class=\"dataframe\">\n",
       "  <thead>\n",
       "    <tr style=\"text-align: right;\">\n",
       "      <th></th>\n",
       "      <th>Membership_ID</th>\n",
       "      <th>Age_Group</th>\n",
       "      <th>Games_Attended</th>\n",
       "      <th>Seasonal_Pass</th>\n",
       "      <th>Customer_Region</th>\n",
       "    </tr>\n",
       "  </thead>\n",
       "  <tbody>\n",
       "    <tr>\n",
       "      <th>23404</th>\n",
       "      <td>81409167</td>\n",
       "      <td>26-40</td>\n",
       "      <td>19</td>\n",
       "      <td>True</td>\n",
       "      <td>Canada</td>\n",
       "    </tr>\n",
       "    <tr>\n",
       "      <th>10366</th>\n",
       "      <td>94079184</td>\n",
       "      <td>60+</td>\n",
       "      <td>6</td>\n",
       "      <td>False</td>\n",
       "      <td>Canada</td>\n",
       "    </tr>\n",
       "    <tr>\n",
       "      <th>5157</th>\n",
       "      <td>10042126</td>\n",
       "      <td>60+</td>\n",
       "      <td>6</td>\n",
       "      <td>False</td>\n",
       "      <td>Canada</td>\n",
       "    </tr>\n",
       "    <tr>\n",
       "      <th>51999</th>\n",
       "      <td>10001423</td>\n",
       "      <td>26-40</td>\n",
       "      <td>8</td>\n",
       "      <td>False</td>\n",
       "      <td>Canada</td>\n",
       "    </tr>\n",
       "    <tr>\n",
       "      <th>25192</th>\n",
       "      <td>10033552</td>\n",
       "      <td>41-60</td>\n",
       "      <td>7</td>\n",
       "      <td>False</td>\n",
       "      <td>USA</td>\n",
       "    </tr>\n",
       "  </tbody>\n",
       "</table>\n",
       "</div>"
      ],
      "text/plain": [
       "       Membership_ID Age_Group  Games_Attended  Seasonal_Pass Customer_Region\n",
       "23404       81409167     26-40              19           True          Canada\n",
       "10366       94079184       60+               6          False          Canada\n",
       "5157        10042126       60+               6          False          Canada\n",
       "51999       10001423     26-40               8          False          Canada\n",
       "25192       10033552     41-60               7          False             USA"
      ]
     },
     "execution_count": 10,
     "metadata": {},
     "output_type": "execute_result"
    }
   ],
   "source": [
    "fan_dat.sample(5)"
   ]
  },
  {
   "cell_type": "markdown",
   "id": "4896dcbb-a8dc-45ca-b97c-4f0c21c895f7",
   "metadata": {},
   "source": [
    "## Summary Statistics and Basic Info"
   ]
  },
  {
   "cell_type": "code",
   "execution_count": 13,
   "id": "3b2de65e-081d-4cfe-9765-65091e0cd9fe",
   "metadata": {
    "tags": []
   },
   "outputs": [
    {
     "name": "stdout",
     "output_type": "stream",
     "text": [
      "<class 'pandas.core.frame.DataFrame'>\n",
      "RangeIndex: 67877 entries, 0 to 67876\n",
      "Data columns (total 13 columns):\n",
      " #   Column              Non-Null Count  Dtype         \n",
      "---  ------              --------------  -----         \n",
      " 0   Product_ID          67877 non-null  int64         \n",
      " 1   Barcode             67877 non-null  int64         \n",
      " 2   Item_Category       67877 non-null  object        \n",
      " 3   Item_Name           67877 non-null  object        \n",
      " 4   Size                52041 non-null  object        \n",
      " 5   Unit_Price          67877 non-null  int64         \n",
      " 6   Customer_Age_Group  67877 non-null  object        \n",
      " 7   Customer_Region     67877 non-null  object        \n",
      " 8   Promotion           67877 non-null  bool          \n",
      " 9   Channel             67877 non-null  object        \n",
      " 10  Selling_Date        67877 non-null  datetime64[ns]\n",
      " 11  Member_ID           67877 non-null  int64         \n",
      " 12  Arrival_Date        54302 non-null  datetime64[ns]\n",
      "dtypes: bool(1), datetime64[ns](2), int64(4), object(6)\n",
      "memory usage: 6.3+ MB\n"
     ]
    }
   ],
   "source": [
    "merch_dat.info()"
   ]
  },
  {
   "cell_type": "code",
   "execution_count": 14,
   "id": "9f905c02-ec71-4546-8b87-3859cd3f8ec7",
   "metadata": {
    "tags": []
   },
   "outputs": [
    {
     "name": "stdout",
     "output_type": "stream",
     "text": [
      "<class 'pandas.core.frame.DataFrame'>\n",
      "RangeIndex: 144 entries, 0 to 143\n",
      "Data columns (total 3 columns):\n",
      " #   Column   Non-Null Count  Dtype \n",
      "---  ------   --------------  ----- \n",
      " 0   Month    144 non-null    int64 \n",
      " 1   Source   144 non-null    object\n",
      " 2   Revenue  144 non-null    int64 \n",
      "dtypes: int64(2), object(1)\n",
      "memory usage: 3.5+ KB\n"
     ]
    }
   ],
   "source": [
    "stadium_dat.info()"
   ]
  },
  {
   "cell_type": "code",
   "execution_count": 15,
   "id": "6b1b015b-dcb7-425d-a2c6-d16f6e430be5",
   "metadata": {
    "tags": []
   },
   "outputs": [
    {
     "name": "stdout",
     "output_type": "stream",
     "text": [
      "<class 'pandas.core.frame.DataFrame'>\n",
      "RangeIndex: 70000 entries, 0 to 69999\n",
      "Data columns (total 5 columns):\n",
      " #   Column           Non-Null Count  Dtype \n",
      "---  ------           --------------  ----- \n",
      " 0   Membership_ID    70000 non-null  int64 \n",
      " 1   Age_Group        70000 non-null  object\n",
      " 2   Games_Attended   70000 non-null  int64 \n",
      " 3   Seasonal_Pass    70000 non-null  bool  \n",
      " 4   Customer_Region  70000 non-null  object\n",
      "dtypes: bool(1), int64(2), object(2)\n",
      "memory usage: 2.2+ MB\n"
     ]
    }
   ],
   "source": [
    "fan_dat.info()"
   ]
  },
  {
   "cell_type": "code",
   "execution_count": 16,
   "id": "4a2772ed-c99f-40b8-8874-2c4cc51ac80f",
   "metadata": {
    "tags": []
   },
   "outputs": [
    {
     "data": {
      "text/plain": [
       "(67877, 13)"
      ]
     },
     "execution_count": 16,
     "metadata": {},
     "output_type": "execute_result"
    }
   ],
   "source": [
    "merch_dat.shape"
   ]
  },
  {
   "cell_type": "code",
   "execution_count": 17,
   "id": "b2759914-e946-4318-b6d3-73c214ecdd92",
   "metadata": {
    "tags": []
   },
   "outputs": [
    {
     "data": {
      "text/plain": [
       "(144, 3)"
      ]
     },
     "execution_count": 17,
     "metadata": {},
     "output_type": "execute_result"
    }
   ],
   "source": [
    "stadium_dat.shape"
   ]
  },
  {
   "cell_type": "code",
   "execution_count": 18,
   "id": "7c4d7854-f856-4433-8175-7cc91abac871",
   "metadata": {
    "tags": []
   },
   "outputs": [
    {
     "data": {
      "text/plain": [
       "(70000, 5)"
      ]
     },
     "execution_count": 18,
     "metadata": {},
     "output_type": "execute_result"
    }
   ],
   "source": [
    "fan_dat.shape"
   ]
  },
  {
   "cell_type": "code",
   "execution_count": 19,
   "id": "b1fbfd87-7b0f-4c10-a8fa-733b300b3e64",
   "metadata": {
    "tags": []
   },
   "outputs": [
    {
     "data": {
      "text/html": [
       "<div>\n",
       "<style scoped>\n",
       "    .dataframe tbody tr th:only-of-type {\n",
       "        vertical-align: middle;\n",
       "    }\n",
       "\n",
       "    .dataframe tbody tr th {\n",
       "        vertical-align: top;\n",
       "    }\n",
       "\n",
       "    .dataframe thead th {\n",
       "        text-align: right;\n",
       "    }\n",
       "</style>\n",
       "<table border=\"1\" class=\"dataframe\">\n",
       "  <thead>\n",
       "    <tr style=\"text-align: right;\">\n",
       "      <th></th>\n",
       "      <th>Product_ID</th>\n",
       "      <th>Barcode</th>\n",
       "      <th>Unit_Price</th>\n",
       "      <th>Member_ID</th>\n",
       "    </tr>\n",
       "  </thead>\n",
       "  <tbody>\n",
       "    <tr>\n",
       "      <th>count</th>\n",
       "      <td>6.787700e+04</td>\n",
       "      <td>6.787700e+04</td>\n",
       "      <td>67877.000000</td>\n",
       "      <td>6.787700e+04</td>\n",
       "    </tr>\n",
       "    <tr>\n",
       "      <th>mean</th>\n",
       "      <td>1.000001e+07</td>\n",
       "      <td>2.003394e+07</td>\n",
       "      <td>95.129882</td>\n",
       "      <td>1.002226e+07</td>\n",
       "    </tr>\n",
       "    <tr>\n",
       "      <th>std</th>\n",
       "      <td>4.603017e+00</td>\n",
       "      <td>1.959455e+04</td>\n",
       "      <td>49.893563</td>\n",
       "      <td>1.284130e+04</td>\n",
       "    </tr>\n",
       "    <tr>\n",
       "      <th>min</th>\n",
       "      <td>1.000000e+07</td>\n",
       "      <td>2.000000e+07</td>\n",
       "      <td>20.000000</td>\n",
       "      <td>1.000000e+07</td>\n",
       "    </tr>\n",
       "    <tr>\n",
       "      <th>25%</th>\n",
       "      <td>1.000000e+07</td>\n",
       "      <td>2.001697e+07</td>\n",
       "      <td>50.000000</td>\n",
       "      <td>1.001115e+07</td>\n",
       "    </tr>\n",
       "    <tr>\n",
       "      <th>50%</th>\n",
       "      <td>1.000000e+07</td>\n",
       "      <td>2.003394e+07</td>\n",
       "      <td>75.000000</td>\n",
       "      <td>1.002229e+07</td>\n",
       "    </tr>\n",
       "    <tr>\n",
       "      <th>75%</th>\n",
       "      <td>1.000001e+07</td>\n",
       "      <td>2.005091e+07</td>\n",
       "      <td>152.000000</td>\n",
       "      <td>1.003338e+07</td>\n",
       "    </tr>\n",
       "    <tr>\n",
       "      <th>max</th>\n",
       "      <td>1.000002e+07</td>\n",
       "      <td>2.006788e+07</td>\n",
       "      <td>152.000000</td>\n",
       "      <td>1.004452e+07</td>\n",
       "    </tr>\n",
       "  </tbody>\n",
       "</table>\n",
       "</div>"
      ],
      "text/plain": [
       "         Product_ID       Barcode    Unit_Price     Member_ID\n",
       "count  6.787700e+04  6.787700e+04  67877.000000  6.787700e+04\n",
       "mean   1.000001e+07  2.003394e+07     95.129882  1.002226e+07\n",
       "std    4.603017e+00  1.959455e+04     49.893563  1.284130e+04\n",
       "min    1.000000e+07  2.000000e+07     20.000000  1.000000e+07\n",
       "25%    1.000000e+07  2.001697e+07     50.000000  1.001115e+07\n",
       "50%    1.000000e+07  2.003394e+07     75.000000  1.002229e+07\n",
       "75%    1.000001e+07  2.005091e+07    152.000000  1.003338e+07\n",
       "max    1.000002e+07  2.006788e+07    152.000000  1.004452e+07"
      ]
     },
     "execution_count": 19,
     "metadata": {},
     "output_type": "execute_result"
    }
   ],
   "source": [
    "merch_dat.describe()"
   ]
  },
  {
   "cell_type": "code",
   "execution_count": 20,
   "id": "6ed409f5-2820-4e16-8525-dc5d0b382b2a",
   "metadata": {
    "tags": []
   },
   "outputs": [
    {
     "data": {
      "text/html": [
       "<div>\n",
       "<style scoped>\n",
       "    .dataframe tbody tr th:only-of-type {\n",
       "        vertical-align: middle;\n",
       "    }\n",
       "\n",
       "    .dataframe tbody tr th {\n",
       "        vertical-align: top;\n",
       "    }\n",
       "\n",
       "    .dataframe thead th {\n",
       "        text-align: right;\n",
       "    }\n",
       "</style>\n",
       "<table border=\"1\" class=\"dataframe\">\n",
       "  <thead>\n",
       "    <tr style=\"text-align: right;\">\n",
       "      <th></th>\n",
       "      <th>Month</th>\n",
       "      <th>Revenue</th>\n",
       "    </tr>\n",
       "  </thead>\n",
       "  <tbody>\n",
       "    <tr>\n",
       "      <th>count</th>\n",
       "      <td>144.000000</td>\n",
       "      <td>1.440000e+02</td>\n",
       "    </tr>\n",
       "    <tr>\n",
       "      <th>mean</th>\n",
       "      <td>6.500000</td>\n",
       "      <td>9.189942e+04</td>\n",
       "    </tr>\n",
       "    <tr>\n",
       "      <th>std</th>\n",
       "      <td>3.464102</td>\n",
       "      <td>1.341148e+06</td>\n",
       "    </tr>\n",
       "    <tr>\n",
       "      <th>min</th>\n",
       "      <td>1.000000</td>\n",
       "      <td>-3.527500e+06</td>\n",
       "    </tr>\n",
       "    <tr>\n",
       "      <th>25%</th>\n",
       "      <td>3.750000</td>\n",
       "      <td>-1.751925e+05</td>\n",
       "    </tr>\n",
       "    <tr>\n",
       "      <th>50%</th>\n",
       "      <td>6.500000</td>\n",
       "      <td>1.420000e+05</td>\n",
       "    </tr>\n",
       "    <tr>\n",
       "      <th>75%</th>\n",
       "      <td>9.250000</td>\n",
       "      <td>4.378755e+05</td>\n",
       "    </tr>\n",
       "    <tr>\n",
       "      <th>max</th>\n",
       "      <td>12.000000</td>\n",
       "      <td>3.410190e+06</td>\n",
       "    </tr>\n",
       "  </tbody>\n",
       "</table>\n",
       "</div>"
      ],
      "text/plain": [
       "            Month       Revenue\n",
       "count  144.000000  1.440000e+02\n",
       "mean     6.500000  9.189942e+04\n",
       "std      3.464102  1.341148e+06\n",
       "min      1.000000 -3.527500e+06\n",
       "25%      3.750000 -1.751925e+05\n",
       "50%      6.500000  1.420000e+05\n",
       "75%      9.250000  4.378755e+05\n",
       "max     12.000000  3.410190e+06"
      ]
     },
     "execution_count": 20,
     "metadata": {},
     "output_type": "execute_result"
    }
   ],
   "source": [
    "stadium_dat.describe()"
   ]
  },
  {
   "cell_type": "code",
   "execution_count": 21,
   "id": "c407f1be-f137-47eb-9bca-63da627f9c30",
   "metadata": {
    "tags": []
   },
   "outputs": [
    {
     "data": {
      "text/html": [
       "<div>\n",
       "<style scoped>\n",
       "    .dataframe tbody tr th:only-of-type {\n",
       "        vertical-align: middle;\n",
       "    }\n",
       "\n",
       "    .dataframe tbody tr th {\n",
       "        vertical-align: top;\n",
       "    }\n",
       "\n",
       "    .dataframe thead th {\n",
       "        text-align: right;\n",
       "    }\n",
       "</style>\n",
       "<table border=\"1\" class=\"dataframe\">\n",
       "  <thead>\n",
       "    <tr style=\"text-align: right;\">\n",
       "      <th></th>\n",
       "      <th>Membership_ID</th>\n",
       "      <th>Games_Attended</th>\n",
       "    </tr>\n",
       "  </thead>\n",
       "  <tbody>\n",
       "    <tr>\n",
       "      <th>count</th>\n",
       "      <td>7.000000e+04</td>\n",
       "      <td>70000.000000</td>\n",
       "    </tr>\n",
       "    <tr>\n",
       "      <th>mean</th>\n",
       "      <td>2.464124e+07</td>\n",
       "      <td>5.711414</td>\n",
       "    </tr>\n",
       "    <tr>\n",
       "      <th>std</th>\n",
       "      <td>2.595011e+07</td>\n",
       "      <td>5.168150</td>\n",
       "    </tr>\n",
       "    <tr>\n",
       "      <th>min</th>\n",
       "      <td>1.370000e+03</td>\n",
       "      <td>1.000000</td>\n",
       "    </tr>\n",
       "    <tr>\n",
       "      <th>25%</th>\n",
       "      <td>1.001510e+07</td>\n",
       "      <td>3.000000</td>\n",
       "    </tr>\n",
       "    <tr>\n",
       "      <th>50%</th>\n",
       "      <td>1.003260e+07</td>\n",
       "      <td>5.000000</td>\n",
       "    </tr>\n",
       "    <tr>\n",
       "      <th>75%</th>\n",
       "      <td>3.167822e+07</td>\n",
       "      <td>7.000000</td>\n",
       "    </tr>\n",
       "    <tr>\n",
       "      <th>max</th>\n",
       "      <td>9.999924e+07</td>\n",
       "      <td>30.000000</td>\n",
       "    </tr>\n",
       "  </tbody>\n",
       "</table>\n",
       "</div>"
      ],
      "text/plain": [
       "       Membership_ID  Games_Attended\n",
       "count   7.000000e+04    70000.000000\n",
       "mean    2.464124e+07        5.711414\n",
       "std     2.595011e+07        5.168150\n",
       "min     1.370000e+03        1.000000\n",
       "25%     1.001510e+07        3.000000\n",
       "50%     1.003260e+07        5.000000\n",
       "75%     3.167822e+07        7.000000\n",
       "max     9.999924e+07       30.000000"
      ]
     },
     "execution_count": 21,
     "metadata": {},
     "output_type": "execute_result"
    }
   ],
   "source": [
    "fan_dat.describe()"
   ]
  },
  {
   "cell_type": "markdown",
   "id": "5016901e-87ab-4e2f-bafb-b50082fa509f",
   "metadata": {},
   "source": [
    "### Missing Values"
   ]
  },
  {
   "cell_type": "code",
   "execution_count": 26,
   "id": "1b9b8690-cb66-4b7d-ad5b-44abec0cf261",
   "metadata": {
    "tags": []
   },
   "outputs": [
    {
     "data": {
      "text/plain": [
       "Product_ID                0\n",
       "Barcode                   0\n",
       "Item_Category             0\n",
       "Item_Name                 0\n",
       "Size                  15836\n",
       "Unit_Price                0\n",
       "Customer_Age_Group        0\n",
       "Customer_Region           0\n",
       "Promotion                 0\n",
       "Channel                   0\n",
       "Selling_Date              0\n",
       "Member_ID                 0\n",
       "Arrival_Date          13575\n",
       "dtype: int64"
      ]
     },
     "execution_count": 26,
     "metadata": {},
     "output_type": "execute_result"
    }
   ],
   "source": [
    "merch_dat.isna().sum()"
   ]
  },
  {
   "cell_type": "code",
   "execution_count": 27,
   "id": "efbe7d7e-87f4-42ec-9082-f15494e62d1d",
   "metadata": {
    "tags": []
   },
   "outputs": [
    {
     "data": {
      "text/plain": [
       "Month      0\n",
       "Source     0\n",
       "Revenue    0\n",
       "dtype: int64"
      ]
     },
     "execution_count": 27,
     "metadata": {},
     "output_type": "execute_result"
    }
   ],
   "source": [
    "stadium_dat.isna().sum()"
   ]
  },
  {
   "cell_type": "code",
   "execution_count": 28,
   "id": "b0f108be-c822-4e08-984d-8141cc9d4212",
   "metadata": {
    "tags": []
   },
   "outputs": [
    {
     "data": {
      "text/plain": [
       "Membership_ID      0\n",
       "Age_Group          0\n",
       "Games_Attended     0\n",
       "Seasonal_Pass      0\n",
       "Customer_Region    0\n",
       "dtype: int64"
      ]
     },
     "execution_count": 28,
     "metadata": {},
     "output_type": "execute_result"
    }
   ],
   "source": [
    "fan_dat.isna().sum()"
   ]
  },
  {
   "cell_type": "markdown",
   "id": "7c5faa88-4692-4118-a7b9-54e0c5df616f",
   "metadata": {},
   "source": [
    "`Size`, `Arrival_Date` has Missing values, we can explore this later"
   ]
  },
  {
   "cell_type": "markdown",
   "id": "71c7d1a8-ff65-414f-a2e6-56dc33b655cd",
   "metadata": {},
   "source": [
    "### Duplicate Values"
   ]
  },
  {
   "cell_type": "code",
   "execution_count": 30,
   "id": "9cf7a349-df92-44c1-bccc-08c21b4a82ee",
   "metadata": {
    "tags": []
   },
   "outputs": [
    {
     "data": {
      "text/plain": [
       "0"
      ]
     },
     "execution_count": 30,
     "metadata": {},
     "output_type": "execute_result"
    }
   ],
   "source": [
    "merch_dat.duplicated().sum()"
   ]
  },
  {
   "cell_type": "code",
   "execution_count": 31,
   "id": "e34c6032-f721-4929-847c-b3d5701654d7",
   "metadata": {
    "tags": []
   },
   "outputs": [
    {
     "data": {
      "text/plain": [
       "0"
      ]
     },
     "execution_count": 31,
     "metadata": {},
     "output_type": "execute_result"
    }
   ],
   "source": [
    "stadium_dat.duplicated().sum()"
   ]
  },
  {
   "cell_type": "code",
   "execution_count": 32,
   "id": "92980067-0dc2-4abd-b2eb-cee51a69bcfb",
   "metadata": {
    "tags": []
   },
   "outputs": [
    {
     "data": {
      "text/plain": [
       "0"
      ]
     },
     "execution_count": 32,
     "metadata": {},
     "output_type": "execute_result"
    }
   ],
   "source": [
    "fan_dat.duplicated().sum()"
   ]
  },
  {
   "cell_type": "markdown",
   "id": "b3eb2a30-4bce-4300-8a01-c9923fb58d85",
   "metadata": {},
   "source": [
    "## Simple Visualizations"
   ]
  },
  {
   "cell_type": "code",
   "execution_count": 35,
   "id": "cfca9e03-4212-4199-9c1d-4665c85edee6",
   "metadata": {
    "tags": []
   },
   "outputs": [
    {
     "data": {
      "text/plain": [
       "Text(0.5, 1.0, 'Distribution of Merchandise Prices')"
      ]
     },
     "execution_count": 35,
     "metadata": {},
     "output_type": "execute_result"
    },
    {
     "data": {
      "image/png": "[encoded data removed]",
      "text/plain": [
       "<Figure size 640x480 with 1 Axes>"
      ]
     },
     "metadata": {},
     "output_type": "display_data"
    }
   ],
   "source": [
    "sns.histplot(merch_dat['Unit_Price'], bins=30)\n",
    "plt.title(\"Distribution of Merchandise Prices\")"
   ]
  },
  {
   "cell_type": "code",
   "execution_count": 36,
   "id": "586c9f39-a9ee-4445-9d25-85a08e2cdd24",
   "metadata": {
    "tags": []
   },
   "outputs": [
    {
     "data": {
      "text/plain": [
       "<Axes: title={'center': 'Top-Selling Categories'}, ylabel='Item_Category'>"
      ]
     },
     "execution_count": 36,
     "metadata": {},
     "output_type": "execute_result"
    },
    {
     "data": {
      "image/png": "[encoded data removed]",
      "text/plain": [
       "<Figure size 640x480 with 1 Axes>"
      ]
     },
     "metadata": {},
     "output_type": "display_data"
    }
   ],
   "source": [
    "sales_by_cat = merch_dat.groupby('Item_Category')['Unit_Price'].sum().sort_values(ascending=False)\n",
    "sales_by_cat.head(10).plot(kind='barh', title='Top-Selling Categories')"
   ]
  },
  {
   "cell_type": "code",
   "execution_count": 37,
   "id": "d235cbdb-e7d5-49d2-b5e3-ca05f1697073",
   "metadata": {
    "tags": []
   },
   "outputs": [
    {
     "data": {
      "text/plain": [
       "Text(0.5, 1.0, 'Daily Sales Trend')"
      ]
     },
     "execution_count": 37,
     "metadata": {},
     "output_type": "execute_result"
    },
    {
     "data": {
      "image/png": "[encoded data removed]",
      "text/plain": [
       "<Figure size 640x480 with 1 Axes>"
      ]
     },
     "metadata": {},
     "output_type": "display_data"
    }
   ],
   "source": [
    "sales_by_day = merch_dat.groupby('Selling_Date')['Unit_Price'].sum().reset_index()\n",
    "sns.lineplot(x='Selling_Date', y='Unit_Price', data=sales_by_day)\n",
    "plt.title('Daily Sales Trend')"
   ]
  },
  {
   "cell_type": "code",
   "execution_count": 39,
   "id": "eec8b446-b3fb-4938-8a3f-eb46d062e86e",
   "metadata": {
    "tags": []
   },
   "outputs": [
    {
     "data": {
      "text/plain": [
       "<Axes: xlabel='Promotion', ylabel='Unit_Price'>"
      ]
     },
     "execution_count": 39,
     "metadata": {},
     "output_type": "execute_result"
    },
    {
     "data": {
      "image/png": "[encoded data removed]",
      "text/plain": [
       "<Figure size 640x480 with 1 Axes>"
      ]
     },
     "metadata": {},
     "output_type": "display_data"
    }
   ],
   "source": [
    "sns.boxplot(x='Promotion', y='Unit_Price', data=merch_dat)"
   ]
  },
  {
   "cell_type": "code",
   "execution_count": 41,
   "id": "41fa0dd6-50b6-4a72-95fd-ae8a63e8672c",
   "metadata": {
    "tags": []
   },
   "outputs": [
    {
     "data": {
      "text/plain": [
       "<Axes: xlabel='Channel', ylabel='Unit_Price'>"
      ]
     },
     "execution_count": 41,
     "metadata": {},
     "output_type": "execute_result"
    },
    {
     "data": {
      "image/png": "[encoded data removed]",
      "text/plain": [
       "<Figure size 640x480 with 1 Axes>"
      ]
     },
     "metadata": {},
     "output_type": "display_data"
    }
   ],
   "source": [
    "sns.barplot(x='Channel', y='Unit_Price', data=merch_dat, estimator='sum')"
   ]
  },
  {
   "cell_type": "code",
   "execution_count": null,
   "id": "caa2ba84-89d8-4102-a178-c4ecd79d721c",
   "metadata": {},
   "outputs": [],
   "source": []
  }
 ],
 "metadata": {
  "kernelspec": {
   "display_name": "Python 3 (ipykernel)",
   "language": "python",
   "name": "python3"
  },
  "language_info": {
   "codemirror_mode": {
    "name": "ipython",
    "version": 3
   },
   "file_extension": ".py",
   "mimetype": "text/x-python",
   "name": "python",
   "nbconvert_exporter": "python",
   "pygments_lexer": "ipython3",
   "version": "3.8.10"
  }
 },
 "nbformat": 4,
 "nbformat_minor": 5
}
